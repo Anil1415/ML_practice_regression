{
 "cells": [
  {
   "cell_type": "code",
   "execution_count": null,
   "metadata": {},
   "outputs": [],
   "source": [
    "# Do not execute as it creates artifacts files (.csv files)"
   ]
  },
  {
   "cell_type": "code",
   "execution_count": 1,
   "metadata": {},
   "outputs": [],
   "source": [
    "import os \n",
    "import sys\n",
    "from src.logger import logging\n",
    "from src.exception import CustomException\n",
    "import pandas as pd\n",
    "from sklearn.model_selection import train_test_split\n",
    "from dataclasses import dataclass\n",
    "\n",
    "# from src.components.data_transformation import Data"
   ]
  },
  {
   "cell_type": "code",
   "execution_count": 7,
   "metadata": {},
   "outputs": [],
   "source": [
    "# initialise the data ingestion configuration \n",
    "@dataclass\n",
    "class DataIngestionConfig:\n",
    "    train_data_path:str = os.path.join('artifacts', 'train.csv')\n",
    "    test_data_path:str = os.path.join('artifacts','test.csv')\n",
    "    raw_data_path:str = os.path.join('artifacts', 'raw.csv')\n",
    "\n",
    "## create a class for data ingestion\n",
    "class DataIngestion:\n",
    "    def __init__(self):\n",
    "        self.ingestion_config = DataIngestionConfig()\n",
    "\n",
    "    def initiate_data_ingestion(self):\n",
    "        logging.info('Data ingestion method started')\n",
    "\n",
    "    \n",
    "\n",
    "        try:\n",
    "            df =  pd.read_csv('./data/gemstone.csv')\n",
    "            # pd.read_csv('./data/gemstone.csv')\n",
    "            logging.info('Dataset has read as pandas DataFrame')\n",
    "\n",
    "            os.makedirs(os.path.dirname(self.ingestion_config.raw_data_path), exist_ok=True)\n",
    "            df.to_csv(self.ingestion_config.raw_data_path, index= False)\n",
    "            logging.info('train_test_split the data')\n",
    "            train_set, test_set = train_test_split(df, test_size=0.3, random_state=42)\n",
    "            train_set.to_csv(self.ingestion_config.train_data_path, header= True)\n",
    "            test_set.to_csv(self.ingestion_config.test_data_path, index = False)\n",
    "\n",
    "            logging.info('Ingestion of data is completed')\n",
    "\n",
    "            return (\n",
    "                self.ingestion_config.train_data_path,\n",
    "                self.ingestion_config.test_data_path\n",
    "            )\n",
    "\n",
    "\n",
    "\n",
    "        except Exception as e:\n",
    "            logging.info('Exception occured at Data ingestion stage')\n",
    "            raise CustomException(e,sys)\n",
    "\n",
    "# run data ingestion\n",
    "\n",
    "if __name__ == '__main__':\n",
    "    obj = DataIngestion()\n",
    "    train_data, test_data = obj.initiate_data_ingestion() "
   ]
  },
  {
   "cell_type": "markdown",
   "metadata": {},
   "source": [
    "\"\"\"\n",
    "\n",
    "---------------------------------------------------------------------------\n",
    "TypeError                                 Traceback (most recent call last)\n",
    "Cell In[4], line 19, in DataIngestion.initiate_data_ingestion(self)\n",
    "     18 try:\n",
    "---> 19     df =  pd.read_csv(os.path('notebooks/data/gemstone.csv'))\n",
    "     20     logging.info('Dataset has read as pandas DataFrame')\n",
    "\n",
    "TypeError: 'module' object is not callable\n",
    "\n",
    "During handling of the above exception, another exception occurred:\n",
    "\n",
    "CustomException                           Traceback (most recent call last)\n",
    "Cell In[4], line 46\n",
    "     44 if __name__ == '__main__':\n",
    "     45     obj = DataIngestion()\n",
    "---> 46     train_data, test_data = obj.initiate_data_ingestion()\n",
    "\n",
    "Cell In[4], line 40, in DataIngestion.initiate_data_ingestion(self)\n",
    "     38 except Exception as e:\n",
    "     39     logging.info('Exception occured at Data ingestion stage')\n",
    "---> 40     raise CustomException(e,sys)\n",
    "\n",
    "CustomException: Error occured in python script name[/var/folders/sd/ksvjn1650sbfvdvzr8hdh84c0000gn/T/ipykernel_64883/958150728.py] line number [19] error message ['module' object is not callable]\n",
    "\"\"\""
   ]
  }
 ],
 "metadata": {
  "kernelspec": {
   "display_name": "Python 3",
   "language": "python",
   "name": "python3"
  },
  "language_info": {
   "codemirror_mode": {
    "name": "ipython",
    "version": 3
   },
   "file_extension": ".py",
   "mimetype": "text/x-python",
   "name": "python",
   "nbconvert_exporter": "python",
   "pygments_lexer": "ipython3",
   "version": "3.8.16 (default, Mar  1 2023, 21:19:10) \n[Clang 14.0.6 ]"
  },
  "orig_nbformat": 4,
  "vscode": {
   "interpreter": {
    "hash": "303338e15be7ff4e8279020f431c66508b7e8d96b0ee1a1e002248bd9697861f"
   }
  }
 },
 "nbformat": 4,
 "nbformat_minor": 2
}
