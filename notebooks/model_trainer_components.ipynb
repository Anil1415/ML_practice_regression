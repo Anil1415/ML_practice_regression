{
 "cells": [
  {
   "cell_type": "code",
   "execution_count": 27,
   "metadata": {},
   "outputs": [],
   "source": [
    "# Baic import \n",
    "import numpy as np\n",
    "import pandas as dp\n",
    "from sklearn.linear_model import LinearRegression, Ridge, Lasso, ElasticNet\n",
    "from src.exception import logging\n",
    "\n",
    "from src.utils import evaluate_model\n",
    "from src.utils import save_object\n",
    "\n",
    "from dataclasses import dataclass\n",
    "import sys\n",
    "import os"
   ]
  },
  {
   "cell_type": "code",
   "execution_count": 46,
   "metadata": {},
   "outputs": [],
   "source": [
    "@dataclass\n",
    "class Model_Trainer_Config:\n",
    "    try:\n",
    "        # assigning the training model path and file name as model.pkl\n",
    "\n",
    "        trained_model_file_path = os.path.join('artifacts','model.pkl')\n",
    "        logging.info('Model pickle file has been created')\n",
    "\n",
    "    except Exception as e:\n",
    "        \n",
    "        logging.info('An occured while creating model file')"
   ]
  },
  {
   "cell_type": "code",
   "execution_count": 48,
   "metadata": {},
   "outputs": [],
   "source": [
    "class Model_Trainer:\n",
    "    def __init__(self) -> None:\n",
    "        \n",
    "        # Initialising the class which can be used for training the model\n",
    "        self.model_trainer_config = Model_Trainer_Config()\n",
    "\n",
    "    def initiate_model_training(self,train_array, test_array):\n",
    "\n",
    "        try:\n",
    "\n",
    "            logging.info('Splitting the dependent and independent variables from train and test data')\n",
    "\n",
    "            X_train, y_train, X_test, y_test = (\n",
    "                    train_array[:, :-1], \n",
    "                    train_array[:,-1],\n",
    "                    test_array[:,:-1],\n",
    "                    test_array[:,-1]\n",
    "                )\n",
    "\n",
    "            # models to evaluate\n",
    "\n",
    "            models = {\n",
    "                'Linear Regression': LinearRegression(),\n",
    "                'Lasso':Lasso(),\n",
    "                'Ridge':Ridge(),\n",
    "                'Elasticnet':ElasticNet()\n",
    "            }\n",
    "\n",
    "            model_report:dict = eval(X_train, y_train, X_test, y_test, models)\n",
    "            print(model_report)\n",
    "            print('\\n=======\\n')\n",
    "            logging.info(f'Model Report : {model_report}')\n",
    "\n",
    "            # To get best model score from dictionary\n",
    "            best_model_score = max(sorted(model_report.values()))\n",
    "\n",
    "            best_model_name = list(model_report.keys())[\n",
    "                list(model_report.values()).index(best_model_score)\n",
    "            ] #returns the key value\n",
    "\n",
    "            best_model = models[best_model_name] # returns value of the key\n",
    "\n",
    "            print(f'Best Model found, Model Name : {best_model_name} ,R2 score : {best_model_score}')\n",
    "            print('\\n===================================================\\n')\n",
    "            logging.info('Best Model found, Model Name : {best_model_name}, R2 score {best_model_score}')\n",
    "\n",
    "            save_object(file_path = self.model_trainer_config.trained_model_file_path,\n",
    "                        obj=best_model )\n",
    "\n",
    "            \n",
    "\n",
    "        except Exception as e:\n",
    "\n",
    "            logging.info('Exception occured at Model Training')\n",
    "            raise CustomException(e,sys)"
   ]
  },
  {
   "cell_type": "code",
   "execution_count": 47,
   "metadata": {},
   "outputs": [],
   "source": [
    "\n",
    "x = np.array([[1, 2, 3], [4, 5, 6]])"
   ]
  },
  {
   "cell_type": "code",
   "execution_count": 3,
   "metadata": {},
   "outputs": [],
   "source": [
    "import os\n",
    "import sys\n",
    "import pickle\n",
    "import numpy as np\n",
    "import pandas as pd\n",
    "from sklearn.metrics import r2_score,mean_absolute_error,mean_squared_error\n",
    "\n",
    "from src.exception import CustomException\n",
    "from src.logger import logging\n"
   ]
  },
  {
   "cell_type": "code",
   "execution_count": 1,
   "metadata": {},
   "outputs": [],
   "source": [
    "\n",
    "\n",
    "        "
   ]
  },
  {
   "cell_type": "code",
   "execution_count": 4,
   "metadata": {},
   "outputs": [],
   "source": [
    "d = {'i':1, 'j':2,'k':3}"
   ]
  },
  {
   "cell_type": "code",
   "execution_count": 5,
   "metadata": {},
   "outputs": [],
   "source": [
    "e = {}"
   ]
  },
  {
   "cell_type": "code",
   "execution_count": 35,
   "metadata": {},
   "outputs": [],
   "source": [
    "d['j']=5"
   ]
  },
  {
   "cell_type": "code",
   "execution_count": 26,
   "metadata": {},
   "outputs": [
    {
     "data": {
      "text/plain": [
       "{'i': 2, 'j': 2, 'k': 3}"
      ]
     },
     "execution_count": 26,
     "metadata": {},
     "output_type": "execute_result"
    }
   ],
   "source": [
    "d"
   ]
  },
  {
   "cell_type": "code",
   "execution_count": null,
   "metadata": {},
   "outputs": [],
   "source": []
  },
  {
   "cell_type": "code",
   "execution_count": null,
   "metadata": {},
   "outputs": [],
   "source": []
  },
  {
   "cell_type": "code",
   "execution_count": 16,
   "metadata": {},
   "outputs": [
    {
     "data": {
      "text/plain": [
       "dict_values([1, 2, 3])"
      ]
     },
     "execution_count": 16,
     "metadata": {},
     "output_type": "execute_result"
    }
   ],
   "source": [
    "d.values()"
   ]
  },
  {
   "cell_type": "code",
   "execution_count": 20,
   "metadata": {},
   "outputs": [
    {
     "name": "stdout",
     "output_type": "stream",
     "text": [
      "dict_keys(['i', 'j', 'k'])\n",
      "dict_keys(['i', 'j', 'k'])\n",
      "dict_keys(['i', 'j', 'k'])\n"
     ]
    }
   ],
   "source": [
    "for i in range(len(d)):\n",
    "    print(d.keys())"
   ]
  },
  {
   "cell_type": "code",
   "execution_count": 45,
   "metadata": {},
   "outputs": [
    {
     "data": {
      "text/plain": [
       "{'i': 2, 'j': 5, 'k': 3}"
      ]
     },
     "execution_count": 45,
     "metadata": {},
     "output_type": "execute_result"
    }
   ],
   "source": [
    "d"
   ]
  },
  {
   "cell_type": "code",
   "execution_count": 39,
   "metadata": {},
   "outputs": [
    {
     "data": {
      "text/plain": [
       "'j'"
      ]
     },
     "execution_count": 39,
     "metadata": {},
     "output_type": "execute_result"
    }
   ],
   "source": [
    "list(d.keys())[list(d.values()).index(5)]"
   ]
  },
  {
   "cell_type": "code",
   "execution_count": 40,
   "metadata": {},
   "outputs": [
    {
     "data": {
      "text/plain": [
       "1"
      ]
     },
     "execution_count": 40,
     "metadata": {},
     "output_type": "execute_result"
    }
   ],
   "source": [
    "list(d.values()).index(5)"
   ]
  },
  {
   "cell_type": "code",
   "execution_count": 44,
   "metadata": {},
   "outputs": [
    {
     "ename": "TypeError",
     "evalue": "list indices must be integers or slices, not str",
     "output_type": "error",
     "traceback": [
      "\u001b[0;31m---------------------------------------------------------------------------\u001b[0m",
      "\u001b[0;31mTypeError\u001b[0m                                 Traceback (most recent call last)",
      "Cell \u001b[0;32mIn[44], line 1\u001b[0m\n\u001b[0;32m----> 1\u001b[0m \u001b[39mlist\u001b[39;49m(d\u001b[39m.\u001b[39;49mkeys())[\u001b[39m'\u001b[39;49m\u001b[39mi\u001b[39;49m\u001b[39m'\u001b[39;49m]\n",
      "\u001b[0;31mTypeError\u001b[0m: list indices must be integers or slices, not str"
     ]
    }
   ],
   "source": [
    "list(d.keys())['i']"
   ]
  },
  {
   "cell_type": "code",
   "execution_count": 42,
   "metadata": {},
   "outputs": [
    {
     "data": {
      "text/plain": [
       "{'i': 2, 'j': 5, 'k': 3}"
      ]
     },
     "execution_count": 42,
     "metadata": {},
     "output_type": "execute_result"
    }
   ],
   "source": [
    "d"
   ]
  },
  {
   "cell_type": "code",
   "execution_count": null,
   "metadata": {},
   "outputs": [],
   "source": []
  }
 ],
 "metadata": {
  "kernelspec": {
   "display_name": "Python 3",
   "language": "python",
   "name": "python3"
  },
  "language_info": {
   "codemirror_mode": {
    "name": "ipython",
    "version": 3
   },
   "file_extension": ".py",
   "mimetype": "text/x-python",
   "name": "python",
   "nbconvert_exporter": "python",
   "pygments_lexer": "ipython3",
   "version": "3.8.16"
  },
  "orig_nbformat": 4,
  "vscode": {
   "interpreter": {
    "hash": "303338e15be7ff4e8279020f431c66508b7e8d96b0ee1a1e002248bd9697861f"
   }
  }
 },
 "nbformat": 4,
 "nbformat_minor": 2
}
