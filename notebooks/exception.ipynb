{
 "cells": [
  {
   "cell_type": "code",
   "execution_count": 1,
   "metadata": {},
   "outputs": [],
   "source": [
    "import sys"
   ]
  },
  {
   "cell_type": "code",
   "execution_count": 2,
   "metadata": {},
   "outputs": [],
   "source": [
    "from src.logger import logging"
   ]
  },
  {
   "cell_type": "code",
   "execution_count": 3,
   "metadata": {},
   "outputs": [],
   "source": [
    "def error_message_detail(error, error_detail:sys):\n",
    "\n",
    "    _,_,exc_tb = error_detail.exc_info()\n",
    "    file_name = exc_tb.tb_frame.f_code.co_filename\n",
    "\n",
    "    error_message = \"Error occured in python script name[{0}] line number [{1}] error message [{2}]\".format(\n",
    "        file_name, exc_tb.tb_lineno, str(error)\n",
    "        )\n",
    "\n",
    "    return error_message"
   ]
  },
  {
   "cell_type": "code",
   "execution_count": 4,
   "metadata": {},
   "outputs": [],
   "source": [
    "class CustomException(Exception):\n",
    "\n",
    "    def __init__(self, error_message, error_detail:sys):\n",
    "        super().__init__(error_message)\n",
    "        self.error_message  = error_message_detail(error_message, error_detail = error_detail)\n",
    "\n",
    "    def __str__(self):\n",
    "        return self.error_message\n",
    "\n",
    "        "
   ]
  },
  {
   "cell_type": "markdown",
   "metadata": {},
   "source": [
    "if __name__ == '__main__':\n",
    "    logging.info('Loggig has started')\n",
    "\n",
    "    try:\n",
    "        a = 1/0\n",
    "    except Exception as e:\n",
    "        logging.info(\"Division by zero\")\n",
    "        raise CustomException(e, sys)"
   ]
  },
  {
   "cell_type": "code",
   "execution_count": 6,
   "metadata": {},
   "outputs": [
    {
     "ename": "CustomException",
     "evalue": "Error occured in python script name[/var/folders/sd/ksvjn1650sbfvdvzr8hdh84c0000gn/T/ipykernel_62851/2190012850.py] line number [5] error message [division by zero]",
     "output_type": "error",
     "traceback": [
      "\u001b[0;31m---------------------------------------------------------------------------\u001b[0m",
      "\u001b[0;31mZeroDivisionError\u001b[0m                         Traceback (most recent call last)",
      "Cell \u001b[0;32mIn[6], line 5\u001b[0m\n\u001b[1;32m      4\u001b[0m \u001b[39mtry\u001b[39;00m:\n\u001b[0;32m----> 5\u001b[0m     a\u001b[39m=\u001b[39m\u001b[39m1\u001b[39;49m\u001b[39m/\u001b[39;49m\u001b[39m0\u001b[39;49m\n\u001b[1;32m      6\u001b[0m \u001b[39mexcept\u001b[39;00m \u001b[39mException\u001b[39;00m \u001b[39mas\u001b[39;00m e:\n",
      "\u001b[0;31mZeroDivisionError\u001b[0m: division by zero",
      "\nDuring handling of the above exception, another exception occurred:\n",
      "\u001b[0;31mCustomException\u001b[0m                           Traceback (most recent call last)",
      "Cell \u001b[0;32mIn[6], line 8\u001b[0m\n\u001b[1;32m      6\u001b[0m \u001b[39mexcept\u001b[39;00m \u001b[39mException\u001b[39;00m \u001b[39mas\u001b[39;00m e:\n\u001b[1;32m      7\u001b[0m     logging\u001b[39m.\u001b[39minfo(\u001b[39m'\u001b[39m\u001b[39mDicision by zero\u001b[39m\u001b[39m'\u001b[39m) \n\u001b[0;32m----> 8\u001b[0m     \u001b[39mraise\u001b[39;00m CustomException(e,sys)\n",
      "\u001b[0;31mCustomException\u001b[0m: Error occured in python script name[/var/folders/sd/ksvjn1650sbfvdvzr8hdh84c0000gn/T/ipykernel_62851/2190012850.py] line number [5] error message [division by zero]"
     ]
    }
   ],
   "source": [
    "if __name__==\"__main__\":\n",
    "    logging.info(\"Logging has started\")\n",
    "\n",
    "    try:\n",
    "        a=1/0\n",
    "    except Exception as e:\n",
    "        logging.info('Dicision by zero') \n",
    "        raise CustomException(e,sys)"
   ]
  },
  {
   "cell_type": "code",
   "execution_count": null,
   "metadata": {},
   "outputs": [],
   "source": []
  }
 ],
 "metadata": {
  "kernelspec": {
   "display_name": "Python 3",
   "language": "python",
   "name": "python3"
  },
  "language_info": {
   "codemirror_mode": {
    "name": "ipython",
    "version": 3
   },
   "file_extension": ".py",
   "mimetype": "text/x-python",
   "name": "python",
   "nbconvert_exporter": "python",
   "pygments_lexer": "ipython3",
   "version": "3.8.16"
  },
  "orig_nbformat": 4,
  "vscode": {
   "interpreter": {
    "hash": "303338e15be7ff4e8279020f431c66508b7e8d96b0ee1a1e002248bd9697861f"
   }
  }
 },
 "nbformat": 4,
 "nbformat_minor": 2
}
